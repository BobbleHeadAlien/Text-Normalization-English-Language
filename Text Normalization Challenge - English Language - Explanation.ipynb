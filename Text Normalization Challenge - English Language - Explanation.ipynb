{
 "cells": [
  {
   "cell_type": "markdown",
   "metadata": {},
   "source": [
    "# Google Text Normalization Challenge: English Language"
   ]
  },
  {
   "cell_type": "markdown",
   "metadata": {},
   "source": [
    "Text normalization is defined as the process of transforming text into a single canonical form. Normalizing text before storing or processing it, allows for separation of concerns, since input is then guaranteed to be consistent before operations are performed on it.\n",
    "\n",
    "Text normalization has seen a huge advancement in technology with the implementation of deep neural networks. Advancements in AI and Processing power has enabled us to process enormous amounts of data rapidly learning from them and producing reliable outputs as required.\n",
    "\n",
    "Google’ text normalization challenge follows the aftermath of a research paper produced by Google researchers Richard Sporat and Navdeep Jaitly. What they have been trying to do is to design a deep neural network to automate the process of text  normalization, given a corpus of labeled text data in the order of a few billion words along with their normalized function. \n",
    "\n",
    "The goal of this research is to produce DNN model which can efficiently translate written format input into readable output. Example: “15/1/1995” to “Fifteenth January Nineteen Ninety-Five.”\n",
    "\n",
    "According to the research led by Sporat and Jaitly, they have tried training the model using two types of Neural Network.\n",
    "1.\tText Normalization using LSTM\n",
    "2.\tAttention Based RNN Sequence to Sequence Model\n",
    "\n",
    "Both of the above models produced a reasonable amount of accuracy but not to an industry ready standard. \n",
    "To further improve the model, google released a huge labeled dataset along with a cash prize on Kaggle with the hopes of the community at large coming up with a better solution. \n",
    "\n",
    "By doing this, some interesting results are obtained wherein people have used regular expressions to obtain near perfect results. But this is not ideal since there is no machine intelligence involved and the entirety of the code is hard-coded to find values which will most definitely fail when it comes to real world implementation.\n",
    "\n",
    "Another method which can be used is the XGBoost or Extreme Gradient Boosting method which has quite often proved to be a winning method for many in Kaggle competitions. It operates as a boosted random forest method and has shown comparatively good results. \n",
    "But the real dilemma is to build a pure DNN which can solve this problem effectively and efficiently. \n",
    "\n",
    "It is for the same reason, I have opted to use a recurrent neural network using LSTM (Long short-term memory) to attempt this task. The implemented model along with their step by step details have been explained below in each stage of the model writtern as comments and Text.\n"
   ]
  },
  {
   "cell_type": "markdown",
   "metadata": {},
   "source": [
    "# Importing all the important Libraries:"
   ]
  },
  {
   "cell_type": "markdown",
   "metadata": {},
   "source": [
    "Since I will be using Keras to build our neural network, I will import Keras Library along with other libraries for data manipulation and visualization which we will be using.\n",
    "\n",
    "I will be operating Keras on a TensorFlow Backend. \n",
    "\n",
    "Some of the other Useful Libraries we will be importing are \"re\" for Regular Expressions and \"gc\" for garbage collection."
   ]
  },
  {
   "cell_type": "code",
   "execution_count": 1,
   "metadata": {},
   "outputs": [
    {
     "name": "stderr",
     "output_type": "stream",
     "text": [
      "Using TensorFlow backend.\n"
     ]
    }
   ],
   "source": [
    "import pandas as pd\n",
    "import numpy as np\n",
    "import gc\n",
    "import re\n",
    "from sklearn.model_selection import train_test_split\n",
    "import keras\n",
    "from keras.models import Sequential\n",
    "from keras.layers import LSTM, Dense, Dropout\n",
    "from keras.optimizers import RMSprop\n",
    "from matplotlib import pyplot as plt"
   ]
  },
  {
   "cell_type": "markdown",
   "metadata": {},
   "source": [
    "Defining Initial Parameters:\n",
    "\n",
    "We set the maximum number of features to 10 and the letter space to 10.\n",
    "We initialize an object called \"space_padded_tokens\" as an empty list."
   ]
  },
  {
   "cell_type": "code",
   "execution_count": 2,
   "metadata": {
    "collapsed": true
   },
   "outputs": [],
   "source": [
    "max_num_features = 10\n",
    "space_letter = 0\n",
    "space_padded_tokens = []"
   ]
  },
  {
   "cell_type": "markdown",
   "metadata": {},
   "source": [
    "Reading the input train and test dataset Files:"
   ]
  },
  {
   "cell_type": "code",
   "execution_count": 59,
   "metadata": {},
   "outputs": [
    {
     "data": {
      "text/plain": [
       "array(['PLAIN', 'PUNCT', 'DATE', 'LETTERS', 'CARDINAL', 'VERBATIM',\n",
       "       'DECIMAL', 'MEASURE', 'MONEY', 'ORDINAL', 'TIME', 'ELECTRONIC',\n",
       "       'DIGIT', 'FRACTION', 'TELEPHONE', 'ADDRESS'], dtype=object)"
      ]
     },
     "execution_count": 59,
     "metadata": {},
     "output_type": "execute_result"
    }
   ],
   "source": [
    "#In order to minimize run time of the code since i am using a slow processor, we only read the first  \"100000\" rows of the training data.\n",
    "training_data = pd.read_csv(\"en_train.csv\", nrows=100000)\n",
    "\n",
    "#Max data size is set as the length of the read data.\n",
    "max_data_size = len(training_data)\n",
    "\n",
    "#We print out all the unique classes in the dataset.\n",
    "training_data['class'].unique()"
   ]
  },
  {
   "cell_type": "code",
   "execution_count": 4,
   "metadata": {
    "collapsed": true
   },
   "outputs": [],
   "source": [
    "#Reading the test dataset as test_dataset\n",
    "test_dataset = pd.read_csv(\"en_test.csv\")"
   ]
  },
  {
   "cell_type": "markdown",
   "metadata": {},
   "source": [
    "# Basic Dataset Analysis: (Reading Head, Info and Discription)"
   ]
  },
  {
   "cell_type": "code",
   "execution_count": 65,
   "metadata": {},
   "outputs": [
    {
     "data": {
      "text/html": [
       "<div>\n",
       "<style scoped>\n",
       "    .dataframe tbody tr th:only-of-type {\n",
       "        vertical-align: middle;\n",
       "    }\n",
       "\n",
       "    .dataframe tbody tr th {\n",
       "        vertical-align: top;\n",
       "    }\n",
       "\n",
       "    .dataframe thead th {\n",
       "        text-align: right;\n",
       "    }\n",
       "</style>\n",
       "<table border=\"1\" class=\"dataframe\">\n",
       "  <thead>\n",
       "    <tr style=\"text-align: right;\">\n",
       "      <th></th>\n",
       "      <th>sentence_id</th>\n",
       "      <th>token_id</th>\n",
       "      <th>class</th>\n",
       "      <th>before</th>\n",
       "      <th>after</th>\n",
       "    </tr>\n",
       "  </thead>\n",
       "  <tbody>\n",
       "    <tr>\n",
       "      <th>0</th>\n",
       "      <td>0</td>\n",
       "      <td>0</td>\n",
       "      <td>PLAIN</td>\n",
       "      <td>Brillantaisia</td>\n",
       "      <td>Brillantaisia</td>\n",
       "    </tr>\n",
       "    <tr>\n",
       "      <th>1</th>\n",
       "      <td>0</td>\n",
       "      <td>1</td>\n",
       "      <td>PLAIN</td>\n",
       "      <td>is</td>\n",
       "      <td>is</td>\n",
       "    </tr>\n",
       "    <tr>\n",
       "      <th>2</th>\n",
       "      <td>0</td>\n",
       "      <td>2</td>\n",
       "      <td>PLAIN</td>\n",
       "      <td>a</td>\n",
       "      <td>a</td>\n",
       "    </tr>\n",
       "    <tr>\n",
       "      <th>3</th>\n",
       "      <td>0</td>\n",
       "      <td>3</td>\n",
       "      <td>PLAIN</td>\n",
       "      <td>genus</td>\n",
       "      <td>genus</td>\n",
       "    </tr>\n",
       "    <tr>\n",
       "      <th>4</th>\n",
       "      <td>0</td>\n",
       "      <td>4</td>\n",
       "      <td>PLAIN</td>\n",
       "      <td>of</td>\n",
       "      <td>of</td>\n",
       "    </tr>\n",
       "  </tbody>\n",
       "</table>\n",
       "</div>"
      ],
      "text/plain": [
       "   sentence_id  token_id  class         before          after\n",
       "0            0         0  PLAIN  Brillantaisia  Brillantaisia\n",
       "1            0         1  PLAIN             is             is\n",
       "2            0         2  PLAIN              a              a\n",
       "3            0         3  PLAIN          genus          genus\n",
       "4            0         4  PLAIN             of             of"
      ]
     },
     "execution_count": 65,
     "metadata": {},
     "output_type": "execute_result"
    }
   ],
   "source": [
    "#Checking the head of the Training DAtaset:\n",
    "training_data.head()"
   ]
  },
  {
   "cell_type": "code",
   "execution_count": 6,
   "metadata": {},
   "outputs": [
    {
     "name": "stdout",
     "output_type": "stream",
     "text": [
      "<class 'pandas.core.frame.DataFrame'>\n",
      "RangeIndex: 100000 entries, 0 to 99999\n",
      "Data columns (total 5 columns):\n",
      "sentence_id    100000 non-null int64\n",
      "token_id       100000 non-null int64\n",
      "class          100000 non-null object\n",
      "before         100000 non-null object\n",
      "after          100000 non-null object\n",
      "dtypes: int64(2), object(3)\n",
      "memory usage: 3.8+ MB\n"
     ]
    }
   ],
   "source": [
    "#Checking the info of the Training dataset:\n",
    "training_data.info()"
   ]
  },
  {
   "cell_type": "code",
   "execution_count": 7,
   "metadata": {},
   "outputs": [
    {
     "data": {
      "text/html": [
       "<div>\n",
       "<style scoped>\n",
       "    .dataframe tbody tr th:only-of-type {\n",
       "        vertical-align: middle;\n",
       "    }\n",
       "\n",
       "    .dataframe tbody tr th {\n",
       "        vertical-align: top;\n",
       "    }\n",
       "\n",
       "    .dataframe thead th {\n",
       "        text-align: right;\n",
       "    }\n",
       "</style>\n",
       "<table border=\"1\" class=\"dataframe\">\n",
       "  <thead>\n",
       "    <tr style=\"text-align: right;\">\n",
       "      <th></th>\n",
       "      <th>sentence_id</th>\n",
       "      <th>token_id</th>\n",
       "      <th>before</th>\n",
       "    </tr>\n",
       "  </thead>\n",
       "  <tbody>\n",
       "    <tr>\n",
       "      <th>0</th>\n",
       "      <td>0</td>\n",
       "      <td>0</td>\n",
       "      <td>Another</td>\n",
       "    </tr>\n",
       "    <tr>\n",
       "      <th>1</th>\n",
       "      <td>0</td>\n",
       "      <td>1</td>\n",
       "      <td>religious</td>\n",
       "    </tr>\n",
       "    <tr>\n",
       "      <th>2</th>\n",
       "      <td>0</td>\n",
       "      <td>2</td>\n",
       "      <td>family</td>\n",
       "    </tr>\n",
       "    <tr>\n",
       "      <th>3</th>\n",
       "      <td>0</td>\n",
       "      <td>3</td>\n",
       "      <td>is</td>\n",
       "    </tr>\n",
       "    <tr>\n",
       "      <th>4</th>\n",
       "      <td>0</td>\n",
       "      <td>4</td>\n",
       "      <td>of</td>\n",
       "    </tr>\n",
       "  </tbody>\n",
       "</table>\n",
       "</div>"
      ],
      "text/plain": [
       "   sentence_id  token_id     before\n",
       "0            0         0    Another\n",
       "1            0         1  religious\n",
       "2            0         2     family\n",
       "3            0         3         is\n",
       "4            0         4         of"
      ]
     },
     "execution_count": 7,
     "metadata": {},
     "output_type": "execute_result"
    }
   ],
   "source": [
    "#Checking the head of the Test Dataset:\n",
    "test_dataset.head()"
   ]
  },
  {
   "cell_type": "code",
   "execution_count": 8,
   "metadata": {},
   "outputs": [
    {
     "name": "stdout",
     "output_type": "stream",
     "text": [
      "<class 'pandas.core.frame.DataFrame'>\n",
      "RangeIndex: 1088564 entries, 0 to 1088563\n",
      "Data columns (total 3 columns):\n",
      "sentence_id    1088564 non-null int64\n",
      "token_id       1088564 non-null int64\n",
      "before         1088551 non-null object\n",
      "dtypes: int64(2), object(1)\n",
      "memory usage: 24.9+ MB\n"
     ]
    }
   ],
   "source": [
    "#Checking the info of the Test Dataset:\n",
    "test_dataset.info()"
   ]
  },
  {
   "cell_type": "markdown",
   "metadata": {},
   "source": [
    "Using MatPlotLib and Seaborn to visualize the Data:"
   ]
  },
  {
   "cell_type": "code",
   "execution_count": 9,
   "metadata": {
    "collapsed": true
   },
   "outputs": [],
   "source": [
    "import seaborn as sns"
   ]
  },
  {
   "cell_type": "code",
   "execution_count": 10,
   "metadata": {},
   "outputs": [
    {
     "data": {
      "text/plain": [
       "<matplotlib.axes._subplots.AxesSubplot at 0x1756a0b9be0>"
      ]
     },
     "execution_count": 10,
     "metadata": {},
     "output_type": "execute_result"
    },
    {
     "data": {
      "image/png": "[encoded data removed]",
      "text/plain": [
       "<matplotlib.figure.Figure at 0x1756a196518>"
      ]
     },
     "metadata": {},
     "output_type": "display_data"
    }
   ],
   "source": [
    "#Plotting a count graph for the \"Class\" column of the data:\n",
    "fig = plt.figure(figsize=(16,6))\n",
    "sns.countplot(x='class',data = training_data)"
   ]
  },
  {
   "cell_type": "markdown",
   "metadata": {},
   "source": [
    "# Exploratory Data Analysis on the Dataset:"
   ]
  },
  {
   "cell_type": "code",
   "execution_count": 11,
   "metadata": {},
   "outputs": [
    {
     "data": {
      "text/plain": [
       "PLAIN         73686\n",
       "PUNCT         19166\n",
       "DATE           2943\n",
       "LETTERS        1545\n",
       "CARDINAL       1266\n",
       "VERBATIM        789\n",
       "MEASURE         152\n",
       "DECIMAL         135\n",
       "ORDINAL         108\n",
       "DIGIT            51\n",
       "MONEY            48\n",
       "ELECTRONIC       45\n",
       "TELEPHONE        37\n",
       "FRACTION         16\n",
       "TIME             12\n",
       "ADDRESS           1\n",
       "Name: class, dtype: int64"
      ]
     },
     "execution_count": 11,
     "metadata": {},
     "output_type": "execute_result"
    }
   ],
   "source": [
    "#Checking the number of datapoints in each class group:\n",
    "training_data['class'].value_counts().sort_values(ascending = False)"
   ]
  },
  {
   "cell_type": "code",
   "execution_count": 12,
   "metadata": {},
   "outputs": [
    {
     "data": {
      "text/plain": [
       "sentence_id    False\n",
       "token_id       False\n",
       "class          False\n",
       "before         False\n",
       "after          False\n",
       "dtype: bool"
      ]
     },
     "execution_count": 12,
     "metadata": {},
     "output_type": "execute_result"
    }
   ],
   "source": [
    "#Checking for any null values in the dataset:\n",
    "training_data.isnull().any()"
   ]
  },
  {
   "cell_type": "code",
   "execution_count": 13,
   "metadata": {},
   "outputs": [
    {
     "data": {
      "text/html": [
       "<div>\n",
       "<style scoped>\n",
       "    .dataframe tbody tr th:only-of-type {\n",
       "        vertical-align: middle;\n",
       "    }\n",
       "\n",
       "    .dataframe tbody tr th {\n",
       "        vertical-align: top;\n",
       "    }\n",
       "\n",
       "    .dataframe thead th {\n",
       "        text-align: right;\n",
       "    }\n",
       "</style>\n",
       "<table border=\"1\" class=\"dataframe\">\n",
       "  <thead>\n",
       "    <tr style=\"text-align: right;\">\n",
       "      <th></th>\n",
       "      <th>sentence_id</th>\n",
       "      <th>token_id</th>\n",
       "      <th>class</th>\n",
       "      <th>before</th>\n",
       "      <th>after</th>\n",
       "    </tr>\n",
       "  </thead>\n",
       "  <tbody>\n",
       "    <tr>\n",
       "      <th>9</th>\n",
       "      <td>0</td>\n",
       "      <td>9</td>\n",
       "      <td>PUNCT</td>\n",
       "      <td>.</td>\n",
       "      <td>.</td>\n",
       "    </tr>\n",
       "    <tr>\n",
       "      <th>17</th>\n",
       "      <td>1</td>\n",
       "      <td>7</td>\n",
       "      <td>PUNCT</td>\n",
       "      <td>.</td>\n",
       "      <td>.</td>\n",
       "    </tr>\n",
       "    <tr>\n",
       "      <th>25</th>\n",
       "      <td>2</td>\n",
       "      <td>7</td>\n",
       "      <td>PUNCT</td>\n",
       "      <td>,</td>\n",
       "      <td>,</td>\n",
       "    </tr>\n",
       "    <tr>\n",
       "      <th>28</th>\n",
       "      <td>2</td>\n",
       "      <td>10</td>\n",
       "      <td>PUNCT</td>\n",
       "      <td>,</td>\n",
       "      <td>,</td>\n",
       "    </tr>\n",
       "    <tr>\n",
       "      <th>31</th>\n",
       "      <td>2</td>\n",
       "      <td>13</td>\n",
       "      <td>PUNCT</td>\n",
       "      <td>,</td>\n",
       "      <td>,</td>\n",
       "    </tr>\n",
       "  </tbody>\n",
       "</table>\n",
       "</div>"
      ],
      "text/plain": [
       "    sentence_id  token_id  class before after\n",
       "9             0         9  PUNCT      .     .\n",
       "17            1         7  PUNCT      .     .\n",
       "25            2         7  PUNCT      ,     ,\n",
       "28            2        10  PUNCT      ,     ,\n",
       "31            2        13  PUNCT      ,     ,"
      ]
     },
     "execution_count": 13,
     "metadata": {},
     "output_type": "execute_result"
    }
   ],
   "source": [
    "#Checking the head of the \"PUNCT\" class group:\n",
    "training_data[training_data['class']=='PUNCT'].head()"
   ]
  },
  {
   "cell_type": "code",
   "execution_count": 14,
   "metadata": {},
   "outputs": [
    {
     "data": {
      "text/html": [
       "<div>\n",
       "<style scoped>\n",
       "    .dataframe tbody tr th:only-of-type {\n",
       "        vertical-align: middle;\n",
       "    }\n",
       "\n",
       "    .dataframe tbody tr th {\n",
       "        vertical-align: top;\n",
       "    }\n",
       "\n",
       "    .dataframe thead th {\n",
       "        text-align: right;\n",
       "    }\n",
       "</style>\n",
       "<table border=\"1\" class=\"dataframe\">\n",
       "  <thead>\n",
       "    <tr style=\"text-align: right;\">\n",
       "      <th></th>\n",
       "      <th>sentence_id</th>\n",
       "      <th>token_id</th>\n",
       "      <th>class</th>\n",
       "      <th>before</th>\n",
       "      <th>after</th>\n",
       "    </tr>\n",
       "  </thead>\n",
       "  <tbody>\n",
       "    <tr>\n",
       "      <th>10</th>\n",
       "      <td>1</td>\n",
       "      <td>0</td>\n",
       "      <td>DATE</td>\n",
       "      <td>2006</td>\n",
       "      <td>two thousand six</td>\n",
       "    </tr>\n",
       "    <tr>\n",
       "      <th>51</th>\n",
       "      <td>3</td>\n",
       "      <td>7</td>\n",
       "      <td>DATE</td>\n",
       "      <td>2007</td>\n",
       "      <td>two thousand seven</td>\n",
       "    </tr>\n",
       "    <tr>\n",
       "      <th>80</th>\n",
       "      <td>5</td>\n",
       "      <td>0</td>\n",
       "      <td>DATE</td>\n",
       "      <td>2008</td>\n",
       "      <td>two thousand eight</td>\n",
       "    </tr>\n",
       "    <tr>\n",
       "      <th>111</th>\n",
       "      <td>8</td>\n",
       "      <td>1</td>\n",
       "      <td>DATE</td>\n",
       "      <td>4 March 2014</td>\n",
       "      <td>the fourth of march twenty fourteen</td>\n",
       "    </tr>\n",
       "    <tr>\n",
       "      <th>147</th>\n",
       "      <td>11</td>\n",
       "      <td>1</td>\n",
       "      <td>DATE</td>\n",
       "      <td>April 10, 2013</td>\n",
       "      <td>april tenth twenty thirteen</td>\n",
       "    </tr>\n",
       "  </tbody>\n",
       "</table>\n",
       "</div>"
      ],
      "text/plain": [
       "     sentence_id  token_id class          before  \\\n",
       "10             1         0  DATE            2006   \n",
       "51             3         7  DATE            2007   \n",
       "80             5         0  DATE            2008   \n",
       "111            8         1  DATE    4 March 2014   \n",
       "147           11         1  DATE  April 10, 2013   \n",
       "\n",
       "                                   after  \n",
       "10                      two thousand six  \n",
       "51                    two thousand seven  \n",
       "80                    two thousand eight  \n",
       "111  the fourth of march twenty fourteen  \n",
       "147          april tenth twenty thirteen  "
      ]
     },
     "execution_count": 14,
     "metadata": {},
     "output_type": "execute_result"
    }
   ],
   "source": [
    "#Checking the head of the \"DATE\" class group:\n",
    "training_data[training_data['class']=='DATE'].head()"
   ]
  },
  {
   "cell_type": "code",
   "execution_count": 15,
   "metadata": {},
   "outputs": [
    {
     "data": {
      "text/html": [
       "<div>\n",
       "<style scoped>\n",
       "    .dataframe tbody tr th:only-of-type {\n",
       "        vertical-align: middle;\n",
       "    }\n",
       "\n",
       "    .dataframe tbody tr th {\n",
       "        vertical-align: top;\n",
       "    }\n",
       "\n",
       "    .dataframe thead th {\n",
       "        text-align: right;\n",
       "    }\n",
       "</style>\n",
       "<table border=\"1\" class=\"dataframe\">\n",
       "  <thead>\n",
       "    <tr style=\"text-align: right;\">\n",
       "      <th></th>\n",
       "      <th>sentence_id</th>\n",
       "      <th>token_id</th>\n",
       "      <th>class</th>\n",
       "      <th>before</th>\n",
       "      <th>after</th>\n",
       "    </tr>\n",
       "  </thead>\n",
       "  <tbody>\n",
       "    <tr>\n",
       "      <th>11</th>\n",
       "      <td>1</td>\n",
       "      <td>1</td>\n",
       "      <td>LETTERS</td>\n",
       "      <td>IUCN</td>\n",
       "      <td>i u c n</td>\n",
       "    </tr>\n",
       "    <tr>\n",
       "      <th>115</th>\n",
       "      <td>9</td>\n",
       "      <td>2</td>\n",
       "      <td>LETTERS</td>\n",
       "      <td>BC</td>\n",
       "      <td>b c</td>\n",
       "    </tr>\n",
       "    <tr>\n",
       "      <th>159</th>\n",
       "      <td>14</td>\n",
       "      <td>2</td>\n",
       "      <td>LETTERS</td>\n",
       "      <td>ALCS</td>\n",
       "      <td>a l c s</td>\n",
       "    </tr>\n",
       "    <tr>\n",
       "      <th>201</th>\n",
       "      <td>18</td>\n",
       "      <td>2</td>\n",
       "      <td>LETTERS</td>\n",
       "      <td>C.</td>\n",
       "      <td>c</td>\n",
       "    </tr>\n",
       "    <tr>\n",
       "      <th>205</th>\n",
       "      <td>18</td>\n",
       "      <td>6</td>\n",
       "      <td>LETTERS</td>\n",
       "      <td>J.</td>\n",
       "      <td>j</td>\n",
       "    </tr>\n",
       "  </tbody>\n",
       "</table>\n",
       "</div>"
      ],
      "text/plain": [
       "     sentence_id  token_id    class before    after\n",
       "11             1         1  LETTERS   IUCN  i u c n\n",
       "115            9         2  LETTERS     BC      b c\n",
       "159           14         2  LETTERS   ALCS  a l c s\n",
       "201           18         2  LETTERS     C.        c\n",
       "205           18         6  LETTERS     J.        j"
      ]
     },
     "execution_count": 15,
     "metadata": {},
     "output_type": "execute_result"
    }
   ],
   "source": [
    "#Cheking the head of the \"Letters\" class group:\n",
    "training_data[training_data['class']=='LETTERS'].head()"
   ]
  },
  {
   "cell_type": "code",
   "execution_count": 16,
   "metadata": {},
   "outputs": [
    {
     "data": {
      "text/plain": [
       "7999"
      ]
     },
     "execution_count": 16,
     "metadata": {},
     "output_type": "execute_result"
    }
   ],
   "source": [
    "num_train_sent = len(training_data.sentence_id.unique())\n",
    "num_train_sent"
   ]
  },
  {
   "cell_type": "code",
   "execution_count": 17,
   "metadata": {},
   "outputs": [
    {
     "data": {
      "text/plain": [
       "count    7999.000000\n",
       "mean       12.501563\n",
       "std         6.398277\n",
       "min         2.000000\n",
       "25%         7.000000\n",
       "50%        12.000000\n",
       "75%        18.000000\n",
       "max        82.000000\n",
       "Name: sentence_id, dtype: float64"
      ]
     },
     "execution_count": 17,
     "metadata": {},
     "output_type": "execute_result"
    }
   ],
   "source": [
    "train_sent = training_data.groupby(\"sentence_id\")[\"sentence_id\"].count()\n",
    "train_sent.describe()"
   ]
  },
  {
   "cell_type": "markdown",
   "metadata": {},
   "source": [
    "# Data Visualization using Seaborn:"
   ]
  },
  {
   "cell_type": "code",
   "execution_count": 18,
   "metadata": {},
   "outputs": [
    {
     "data": {
      "image/png": "[encoded data removed]",
      "text/plain": [
       "<matplotlib.figure.Figure at 0x1756acb0908>"
      ]
     },
     "metadata": {},
     "output_type": "display_data"
    }
   ],
   "source": [
    "#Plotting a count plot for sentence id int he train data:\n",
    "fig, ax = plt.subplots(1,1, figsize=(30,10))\n",
    "figure_length = sns.countplot(train_sent, ax = ax)"
   ]
  },
  {
   "cell_type": "code",
   "execution_count": 19,
   "metadata": {},
   "outputs": [
    {
     "data": {
      "text/plain": [
       "count    70000.000000\n",
       "mean        15.550914\n",
       "std          5.763962\n",
       "min          2.000000\n",
       "25%         11.000000\n",
       "50%         16.000000\n",
       "75%         20.000000\n",
       "max        249.000000\n",
       "Name: sentence_id, dtype: float64"
      ]
     },
     "execution_count": 19,
     "metadata": {},
     "output_type": "execute_result"
    }
   ],
   "source": [
    "test_sent = test_dataset.groupby(\"sentence_id\")[\"sentence_id\"].count()\n",
    "test_sent.describe()"
   ]
  },
  {
   "cell_type": "code",
   "execution_count": 20,
   "metadata": {},
   "outputs": [
    {
     "data": {
      "image/png": "[encoded data removed]",
      "text/plain": [
       "<matplotlib.figure.Figure at 0x1756aae80f0>"
      ]
     },
     "metadata": {},
     "output_type": "display_data"
    }
   ],
   "source": [
    "#Plotting a countplot of the sentence id in the test data:\n",
    "fig, ax = plt.subplots(1,1, figsize=(30,10))\n",
    "figure_length = sns.countplot(test_sent, ax = ax)"
   ]
  },
  {
   "cell_type": "markdown",
   "metadata": {},
   "source": [
    "# Defining the Data and labels:"
   ]
  },
  {
   "cell_type": "code",
   "execution_count": 60,
   "metadata": {
    "collapsed": true
   },
   "outputs": [],
   "source": [
    "#Factorizing the \"CLASS\" column of the training data:\n",
    "encoded_classes = pd.factorize(training_data['class'])\n",
    "\n",
    "#Defining the Xdata, Ydata and Labels:\n",
    "x_data = []\n",
    "labels = encoded_classes[1]\n",
    "y_data = encoded_classes[0]\n",
    "\n",
    "#Garbage collect funtion and initializing an object \"count\" as zero:\n",
    "gc.collect()\n",
    "count = 0"
   ]
  },
  {
   "cell_type": "code",
   "execution_count": 22,
   "metadata": {},
   "outputs": [
    {
     "data": {
      "text/plain": [
       "Index(['PLAIN', 'PUNCT', 'DATE', 'LETTERS', 'CARDINAL', 'VERBATIM', 'DECIMAL',\n",
       "       'MEASURE', 'MONEY', 'ORDINAL', 'TIME', 'ELECTRONIC', 'DIGIT',\n",
       "       'FRACTION', 'TELEPHONE', 'ADDRESS'],\n",
       "      dtype='object')"
      ]
     },
     "execution_count": 22,
     "metadata": {},
     "output_type": "execute_result"
    }
   ],
   "source": [
    "#Checking the Labels:\n",
    "labels"
   ]
  },
  {
   "cell_type": "code",
   "execution_count": 63,
   "metadata": {},
   "outputs": [
    {
     "data": {
      "text/plain": [
       "array([0, 0, 0, 0, 0, 0, 0, 0, 0, 1, 2, 3, 0, 0, 0, 0, 0, 1, 0, 0, 0, 0, 0,\n",
       "       0, 0], dtype=int64)"
      ]
     },
     "execution_count": 63,
     "metadata": {},
     "output_type": "execute_result"
    }
   ],
   "source": [
    "#Checking the first 25 Y-Data points:\n",
    "y_data[:25]"
   ]
  },
  {
   "cell_type": "code",
   "execution_count": 62,
   "metadata": {},
   "outputs": [
    {
     "data": {
      "text/plain": [
       "(100000,)"
      ]
     },
     "execution_count": 62,
     "metadata": {},
     "output_type": "execute_result"
    }
   ],
   "source": [
    "#Checking the shape of Y Data:\n",
    "y_data.shape"
   ]
  },
  {
   "cell_type": "code",
   "execution_count": 30,
   "metadata": {},
   "outputs": [
    {
     "data": {
      "text/plain": [
       "Index(['PLAIN', 'PUNCT', 'DATE', 'LETTERS', 'CARDINAL', 'VERBATIM', 'DECIMAL',\n",
       "       'MEASURE', 'MONEY', 'ORDINAL', 'TIME', 'ELECTRONIC', 'DIGIT',\n",
       "       'FRACTION', 'TELEPHONE', 'ADDRESS'],\n",
       "      dtype='object')"
      ]
     },
     "execution_count": 30,
     "metadata": {},
     "output_type": "execute_result"
    }
   ],
   "source": [
    "encoded_classes[1]"
   ]
  },
  {
   "cell_type": "markdown",
   "metadata": {},
   "source": [
    "# Pre-Processing the Data:"
   ]
  },
  {
   "cell_type": "code",
   "execution_count": 68,
   "metadata": {
    "collapsed": true
   },
   "outputs": [],
   "source": [
    "'''\n",
    "In order to make the data suitable for feeding into the neural network, we have to conver the text data into neumaric data.\n",
    "Hence for each word in the \"Before\" column, we split each character, conert it into its suitable unicode format and store each\n",
    "word as an individual row in X_Data\n",
    "'''\n",
    "for before_value in training_data['before'].values:\n",
    "    row = np.ones(max_num_features, dtype=int) * space_letter\n",
    "    for before_value_char, i in zip(list(str(before_value)), np.arange(max_num_features)):\n",
    "        row[i] = ord(before_value_char)\n",
    "    count+=1\n",
    "    x_data.append(row)"
   ]
  },
  {
   "cell_type": "code",
   "execution_count": 69,
   "metadata": {
    "collapsed": true
   },
   "outputs": [],
   "source": [
    "'''\n",
    "We define a funtion to calculate the \"Flat context windows\":\n",
    "As described in the paper published by Sporat and Jaitley, In order for the prediction to be more accurate, we can include \n",
    "the context of the texts which appears before and after the word we are taking into consideration. Therefore, in this funtion,\n",
    "we make a context windows which passes over the entire list of X-Data rows and return a new list of rows where the word we are\n",
    "taking into consideration in each row is enclosed on either side by words whihc come before and after it in the original dataset.\n",
    "'''\n",
    "def make_flat_context_windows(data, pad_size, max_num_features, boundary_letter):\n",
    "    #Initializing an object pad as an array of zeros with length eual to Max number of features = 10\n",
    "    pad = np.zeros(shape=max_num_features)\n",
    "    \n",
    "    #adding number of pads depending on the padsize\n",
    "    pads = [pad for _ in  np.arange(pad_size)]\n",
    "    \n",
    "    #Adding the pads to either sides of the data\n",
    "    data = pads + data + pads\n",
    "    \n",
    "    #Initializing an empty list for returning the final list\n",
    "    flattened_context_windows = []\n",
    "    \n",
    "    #Defining the context windows whihc will pass over the dataset.\n",
    "    for lower_bound in np.arange(len(data) - pad_size * 2):\n",
    "        #initializing another empty list to make the new flattened context list\n",
    "        flattened_context_window = []\n",
    "        context_window_size = pad_size * 2 + 1\n",
    "        upper_bound = lower_bound + context_window_size\n",
    "        context_window = data[lower_bound:upper_bound]\n",
    "        \n",
    "        #for each word in the context window, we append it to the \"flattened_context_window\" list along with the boundry letters\n",
    "        for word in context_window:\n",
    "            flattened_context_window.append([boundary_letter])\n",
    "            flattened_context_window.append(word)\n",
    "        flattened_context_window.append([boundary_letter])\n",
    "        \n",
    "        #adding all the modified rows into the \"flattened_context_windows\" list and returning it.\n",
    "        flattened_context_windows.append([int(word) for row in flattened_context_window for word in row])\n",
    "    return flattened_context_windows"
   ]
  },
  {
   "cell_type": "markdown",
   "metadata": {},
   "source": [
    "# Defining x_train and y_train:"
   ]
  },
  {
   "cell_type": "code",
   "execution_count": 70,
   "metadata": {},
   "outputs": [
    {
     "data": {
      "text/plain": [
       "0"
      ]
     },
     "execution_count": 70,
     "metadata": {},
     "output_type": "execute_result"
    }
   ],
   "source": [
    "#Setting the max number of X data and Y data data to a 100000 data points:\n",
    "x_data = x_data[:max_data_size]\n",
    "y_data = y_data[:max_data_size]\n",
    "\n",
    "#Calling the \"Context windows funtion on the X_Data:\n",
    "x_data = np.array(make_flat_context_windows(x_data, pad_size = 1, max_num_features= max_num_features, boundary_letter=-1))\n",
    "\n",
    "#Garbage collection\n",
    "gc.collect()"
   ]
  },
  {
   "cell_type": "code",
   "execution_count": 71,
   "metadata": {},
   "outputs": [
    {
     "data": {
      "text/plain": [
       "0"
      ]
     },
     "execution_count": 71,
     "metadata": {},
     "output_type": "execute_result"
    }
   ],
   "source": [
    "#Converting all the lists and arrays into a numpy array so it can be fed into the DNN\n",
    "x_train = np.array(x_data)\n",
    "y_train = np.array(y_data)\n",
    "\n",
    "#Garbage Collection\n",
    "gc.collect()"
   ]
  },
  {
   "cell_type": "code",
   "execution_count": 72,
   "metadata": {},
   "outputs": [
    {
     "data": {
      "text/plain": [
       "(100000, 34)"
      ]
     },
     "execution_count": 72,
     "metadata": {},
     "output_type": "execute_result"
    }
   ],
   "source": [
    "#Checking the shape of the X_train data\n",
    "x_train.shape"
   ]
  },
  {
   "cell_type": "code",
   "execution_count": 73,
   "metadata": {},
   "outputs": [
    {
     "data": {
      "text/plain": [
       "(100000,)"
      ]
     },
     "execution_count": 73,
     "metadata": {},
     "output_type": "execute_result"
    }
   ],
   "source": [
    "#Checking the shape of the Y_train data\n",
    "y_train.shape"
   ]
  },
  {
   "cell_type": "markdown",
   "metadata": {},
   "source": [
    "# Splitting the Data set to train and validation data:"
   ]
  },
  {
   "cell_type": "code",
   "execution_count": 74,
   "metadata": {
    "collapsed": true
   },
   "outputs": [],
   "source": [
    "#Using the train_test_split function to split the training data into the training and validation dataset \n",
    "x_train, x_valid, y_train, y_valid = train_test_split(x_train, y_train, test_size=0.1)"
   ]
  },
  {
   "cell_type": "code",
   "execution_count": 75,
   "metadata": {},
   "outputs": [
    {
     "data": {
      "text/plain": [
       "16"
      ]
     },
     "execution_count": 75,
     "metadata": {},
     "output_type": "execute_result"
    }
   ],
   "source": [
    "#Checking the total number of classes\n",
    "num_classes = len(labels)\n",
    "num_classes"
   ]
  },
  {
   "cell_type": "markdown",
   "metadata": {},
   "source": [
    "Reshaping the dataset to input into the training model:"
   ]
  },
  {
   "cell_type": "code",
   "execution_count": 76,
   "metadata": {},
   "outputs": [
    {
     "name": "stdout",
     "output_type": "stream",
     "text": [
      "(90000, 34)\n"
     ]
    }
   ],
   "source": [
    "#Since the class column has 16 diffent classes, we are reshaping the y_data from a one column dataset into a 16 column dataset,\n",
    "#where each column represents a diffent class:\n",
    "y_train = keras.utils.to_categorical(y_train, num_classes)\n",
    "y_valid = keras.utils.to_categorical(y_valid, num_classes)\n",
    "\n",
    "#Checking the shape of the x_train data\n",
    "print(x_train.shape)"
   ]
  },
  {
   "cell_type": "code",
   "execution_count": 77,
   "metadata": {
    "collapsed": true
   },
   "outputs": [],
   "source": [
    "#Reshaping the X_data from (90000,34) to (90000,34,1) to feed into the DNN\n",
    "x_train = np.reshape(x_train, (x_train.shape[0], x_train.shape[1], 1))\n",
    "x_valid = np.reshape(x_valid, (x_valid.shape[0], x_valid.shape[1], 1))"
   ]
  },
  {
   "cell_type": "code",
   "execution_count": 78,
   "metadata": {},
   "outputs": [
    {
     "data": {
      "text/plain": [
       "(90000, 34, 1)"
      ]
     },
     "execution_count": 78,
     "metadata": {},
     "output_type": "execute_result"
    }
   ],
   "source": [
    "#Checking the x_train shape\n",
    "x_train.shape"
   ]
  },
  {
   "cell_type": "code",
   "execution_count": 79,
   "metadata": {},
   "outputs": [
    {
     "data": {
      "text/plain": [
       "(90000, 16)"
      ]
     },
     "execution_count": 79,
     "metadata": {},
     "output_type": "execute_result"
    }
   ],
   "source": [
    "#Checking the y_train shape\n",
    "y_train.shape"
   ]
  },
  {
   "cell_type": "markdown",
   "metadata": {},
   "source": [
    "# Building the layers of the LSTM neural network:"
   ]
  },
  {
   "cell_type": "code",
   "execution_count": 80,
   "metadata": {
    "collapsed": true
   },
   "outputs": [],
   "source": [
    "#Initializing the Keras LSTM model:\n",
    "model = Sequential()\n",
    "\n",
    "#Adding an LSTM Layer with output shape set to 128 and dropout rate set to 20%\n",
    "model.add(LSTM(128, dropout=0.2, recurrent_dropout=0.2, input_shape=((max_num_features * 3) + 4, 1)))\n",
    "\n",
    "#Adding a dense layer with an output shape of 32 and a relu activation funtion:\n",
    "model.add(Dense(32, activation='relu'))\n",
    "\n",
    "#Adding a dropout layer with a rate of 20% again:\n",
    "model.add(Dropout(0.2))\n",
    "\n",
    "#Adding a dense later with a softmax activation with the output size equal to the length of the labels = 16\n",
    "model.add(Dense(len(labels), activation='softmax'))"
   ]
  },
  {
   "cell_type": "markdown",
   "metadata": {},
   "source": [
    "Summary of the model:"
   ]
  },
  {
   "cell_type": "code",
   "execution_count": 81,
   "metadata": {},
   "outputs": [
    {
     "name": "stdout",
     "output_type": "stream",
     "text": [
      "_________________________________________________________________\n",
      "Layer (type)                 Output Shape              Param #   \n",
      "=================================================================\n",
      "lstm_2 (LSTM)                (None, 128)               66560     \n",
      "_________________________________________________________________\n",
      "dense_3 (Dense)              (None, 32)                4128      \n",
      "_________________________________________________________________\n",
      "dropout_2 (Dropout)          (None, 32)                0         \n",
      "_________________________________________________________________\n",
      "dense_4 (Dense)              (None, 16)                528       \n",
      "=================================================================\n",
      "Total params: 71,216\n",
      "Trainable params: 71,216\n",
      "Non-trainable params: 0\n",
      "_________________________________________________________________\n"
     ]
    }
   ],
   "source": [
    "#Checking the model summary:\n",
    "model.summary()"
   ]
  },
  {
   "cell_type": "markdown",
   "metadata": {},
   "source": [
    "# Compiling, Fitting, and Evaluating the model:"
   ]
  },
  {
   "cell_type": "code",
   "execution_count": 82,
   "metadata": {
    "collapsed": true
   },
   "outputs": [],
   "source": [
    "#Compiling the model with the rmsprop optimizer and \"categoriacal crossentropy\" as the loss metric and also checking accuracy:\n",
    "model.compile(optimizer='rmsprop', loss='categorical_crossentropy', metrics=['accuracy'])"
   ]
  },
  {
   "cell_type": "code",
   "execution_count": 83,
   "metadata": {},
   "outputs": [
    {
     "name": "stdout",
     "output_type": "stream",
     "text": [
      "Train on 90000 samples, validate on 10000 samples\n",
      "Epoch 1/10\n",
      "90000/90000 [==============================] - 52s 583us/step - loss: 0.4440 - acc: 0.8867 - val_loss: 0.2881 - val_acc: 0.9247\n",
      "Epoch 2/10\n",
      "90000/90000 [==============================] - 51s 563us/step - loss: 0.2304 - acc: 0.9438 - val_loss: 1.1888 - val_acc: 0.5877\n",
      "Epoch 3/10\n",
      "90000/90000 [==============================] - 50s 558us/step - loss: 0.1938 - acc: 0.9523 - val_loss: 0.1424 - val_acc: 0.9689\n",
      "Epoch 4/10\n",
      "90000/90000 [==============================] - 50s 561us/step - loss: 0.1748 - acc: 0.9566 - val_loss: 0.2981 - val_acc: 0.9176\n",
      "Epoch 5/10\n",
      "90000/90000 [==============================] - 50s 552us/step - loss: 0.1640 - acc: 0.9603 - val_loss: 0.2599 - val_acc: 0.9353\n",
      "Epoch 6/10\n",
      "90000/90000 [==============================] - 50s 559us/step - loss: 0.1556 - acc: 0.9621 - val_loss: 0.1644 - val_acc: 0.9585\n",
      "Epoch 7/10\n",
      "90000/90000 [==============================] - 49s 548us/step - loss: 0.1488 - acc: 0.9637 - val_loss: 0.4495 - val_acc: 0.7930\n",
      "Epoch 8/10\n",
      "90000/90000 [==============================] - 50s 554us/step - loss: 0.1414 - acc: 0.9653 - val_loss: 0.1896 - val_acc: 0.9363\n",
      "Epoch 9/10\n",
      "90000/90000 [==============================] - 49s 549us/step - loss: 0.1368 - acc: 0.9673 - val_loss: 0.5694 - val_acc: 0.6982\n",
      "Epoch 10/10\n",
      "90000/90000 [==============================] - 50s 559us/step - loss: 0.1358 - acc: 0.9671 - val_loss: 0.1617 - val_acc: 0.9509\n"
     ]
    }
   ],
   "source": [
    "#Fitting the model on the validation data with batch size set to 128 for a total of 10 epochs:\n",
    "history = model.fit(x_train, y_train, batch_size=128, epochs=10, verbose=1, validation_data=(x_valid, y_valid))"
   ]
  },
  {
   "cell_type": "code",
   "execution_count": 84,
   "metadata": {},
   "outputs": [
    {
     "data": {
      "text/plain": [
       "3780"
      ]
     },
     "execution_count": 84,
     "metadata": {},
     "output_type": "execute_result"
    }
   ],
   "source": [
    "#collecting any garbage\n",
    "gc.collect()"
   ]
  },
  {
   "cell_type": "markdown",
   "metadata": {},
   "source": [
    "Evaluating the model:"
   ]
  },
  {
   "cell_type": "code",
   "execution_count": 85,
   "metadata": {
    "collapsed": true
   },
   "outputs": [],
   "source": [
    "#Evaluating the model and assigning it to score:\n",
    "score = model.evaluate(x_valid, y_valid, verbose=0)"
   ]
  },
  {
   "cell_type": "code",
   "execution_count": 86,
   "metadata": {},
   "outputs": [
    {
     "data": {
      "text/plain": [
       "[0.16165324929729105, 0.95089999999999997]"
      ]
     },
     "execution_count": 86,
     "metadata": {},
     "output_type": "execute_result"
    }
   ],
   "source": [
    "#Desplaying score:\n",
    "score"
   ]
  },
  {
   "cell_type": "markdown",
   "metadata": {},
   "source": [
    "Checking thr accuracy on the validation dataset:"
   ]
  },
  {
   "cell_type": "code",
   "execution_count": 87,
   "metadata": {},
   "outputs": [
    {
     "name": "stdout",
     "output_type": "stream",
     "text": [
      "Accuracy on validaton dataset\n",
      "0.9509\n"
     ]
    }
   ],
   "source": [
    "#Printing the accuracy on the validation set:\n",
    "print(\"Accuracy on validaton dataset\")\n",
    "print(score[1])"
   ]
  },
  {
   "cell_type": "markdown",
   "metadata": {},
   "source": [
    "# Plotting the Accuracy and Lose Graphs"
   ]
  },
  {
   "cell_type": "code",
   "execution_count": 88,
   "metadata": {},
   "outputs": [
    {
     "data": {
      "image/png": "[encoded data removed]",
      "text/plain": [
       "<matplotlib.figure.Figure at 0x17516ab00f0>"
      ]
     },
     "metadata": {},
     "output_type": "display_data"
    }
   ],
   "source": [
    "#Ploting the accuracy vs epoch graph using matplotlib:\n",
    "plt.plot(history.history['acc'])\n",
    "plt.title(\"Accuracy\")\n",
    "plt.ylabel(\"Accuracy\")\n",
    "plt.xlabel(\"Epoch\")\n",
    "plt.show()"
   ]
  },
  {
   "cell_type": "code",
   "execution_count": 89,
   "metadata": {},
   "outputs": [
    {
     "data": {
      "image/png": "[encoded data removed]",
      "text/plain": [
       "<matplotlib.figure.Figure at 0x175164ed0f0>"
      ]
     },
     "metadata": {},
     "output_type": "display_data"
    }
   ],
   "source": [
    "#Plotting the loss vs Epoch graph using matplotlib:\n",
    "plt.plot(history.history['loss'])\n",
    "plt.title('Loss')\n",
    "plt.ylabel(\"Loss\")\n",
    "plt.xlabel(\"Epoch\")\n",
    "plt.show()"
   ]
  },
  {
   "cell_type": "markdown",
   "metadata": {},
   "source": [
    "# Predicting values for the test split data and transffering to file:"
   ]
  },
  {
   "cell_type": "code",
   "execution_count": 90,
   "metadata": {
    "collapsed": true
   },
   "outputs": [],
   "source": [
    "#Using the trained model to predict on the validation dataset\n",
    "predicted_valid = model.predict(x_valid)"
   ]
  },
  {
   "cell_type": "code",
   "execution_count": 91,
   "metadata": {
    "collapsed": true
   },
   "outputs": [],
   "source": [
    "#Obtaining the predicted value of the Labels\n",
    "predicted_valid = [labels[np.argmax(x)] for x in predicted_valid]\n",
    "\n",
    "#Generating characters of the Data\n",
    "x_valid = [[chr(x) for x in y[2 + max_num_features: 2 + max_num_features * 2]] for y in x_valid]\n",
    "#Joining all the characters in the x_valid data\n",
    "x_valid = [''.join(x) for x in x_valid]\n",
    "#Replacing the patterns for the input x in x_valid\n",
    "x_valid = [re.sub('a+$', '', x) for x in x_valid]"
   ]
  },
  {
   "cell_type": "code",
   "execution_count": 92,
   "metadata": {},
   "outputs": [
    {
     "data": {
      "text/plain": [
       "4825"
      ]
     },
     "execution_count": 92,
     "metadata": {},
     "output_type": "execute_result"
    }
   ],
   "source": [
    "#Collecting garbage values\n",
    "gc.collect()"
   ]
  },
  {
   "cell_type": "code",
   "execution_count": 93,
   "metadata": {
    "collapsed": true
   },
   "outputs": [],
   "source": [
    "#Creating a new dataframe with \"Data and \"Predict\" Columns:\n",
    "df_predicted_valid = pd.DataFrame(columns=['data', 'predict'])\n",
    "\n",
    "#Filling the 'data' column with x_valid values:\n",
    "df_predicted_valid['data'] = x_valid\n",
    "\n",
    "#Filling the 'predict' column with predicted_valid values\n",
    "df_predicted_valid['predict'] = predicted_valid\n",
    "\n",
    "#Storing the dataframe in a csv file:\n",
    "df_predicted_valid.to_csv('validation_pred_lstm.csv')"
   ]
  },
  {
   "cell_type": "markdown",
   "metadata": {},
   "source": [
    "# Preprocessing and predicting seperate test dataset:"
   ]
  },
  {
   "cell_type": "code",
   "execution_count": 94,
   "metadata": {
    "collapsed": true
   },
   "outputs": [],
   "source": [
    "#Test data Values\n",
    "test_data = test_dataset['before'].values"
   ]
  },
  {
   "cell_type": "code",
   "execution_count": 95,
   "metadata": {
    "collapsed": true
   },
   "outputs": [],
   "source": [
    "#Converting the test data into unicode format and stored as rows of unicode values in a similar way in which we \n",
    "#Preprocessed the training data\n",
    "def make_encoded_space_padded_tokens(data, max_num_features, space_char):\n",
    "    #creating an empty list for space padded tokens\n",
    "    space_padded_tokens = list()\n",
    "    for before_value in data:\n",
    "        #Initializing the space padded token with a numpy array of length ezual to max_num_features = 10\n",
    "        space_padded_token = np.ones(max_num_features, dtype=int) * space_char\n",
    "        before_value_c_str = list(str(before_value))\n",
    "        for before_value_char, i in zip(before_value_c_str, range(max_num_features)):\n",
    "            #Replacing the char values with unicode of their corrosponding values\n",
    "            space_padded_token[i] = ord(before_value_char)\n",
    "        #Appenidng to space padded tokens and returning it    \n",
    "        space_padded_tokens.append(space_padded_token)\n",
    "    return space_padded_tokens"
   ]
  },
  {
   "cell_type": "code",
   "execution_count": 96,
   "metadata": {
    "collapsed": true
   },
   "outputs": [],
   "source": [
    "#Calling the padded tokens function on the test data\n",
    "test_data = make_encoded_space_padded_tokens(data=test_data, max_num_features=max_num_features, space_char=0)"
   ]
  },
  {
   "cell_type": "code",
   "execution_count": 97,
   "metadata": {
    "collapsed": true
   },
   "outputs": [],
   "source": [
    "#Calling the flat context windows functioin on the test data to make it suitable to test in our model:\n",
    "test_data = np.array(make_flat_context_windows(data=test_data, pad_size=1, max_num_features=max_num_features, boundary_letter=-1))"
   ]
  },
  {
   "cell_type": "code",
   "execution_count": 98,
   "metadata": {
    "collapsed": true
   },
   "outputs": [],
   "source": [
    "#Reshaping the test data to input into the Deep neural network:\n",
    "test_data = np.reshape(test_data, (test_data.shape[0], test_data.shape[1], 1))"
   ]
  },
  {
   "cell_type": "code",
   "execution_count": 99,
   "metadata": {
    "collapsed": true
   },
   "outputs": [],
   "source": [
    "#Predicting the values on the test data using our model\n",
    "predicted_data = model.predict(test_data)"
   ]
  },
  {
   "cell_type": "code",
   "execution_count": 100,
   "metadata": {
    "collapsed": true
   },
   "outputs": [],
   "source": [
    "#Obtaining the predicted value of the Labels\n",
    "predicted_data = [labels[np.argmax(char)] for char in predicted_data]\n",
    "\n",
    "#Generating characters of the Data\n",
    "test_data = [[chr(wrd) for wrd in char[2 + max_num_features: 2 + max_num_features * 2]] for char in test_data]\n",
    "#Joining all the characters in the x_valid data\n",
    "test_data = [''.join(wrd) for wrd in test_data]\n",
    "#Replacing the patterns for the input x in x_valid\n",
    "test_data = [re.sub('a+$', '', wrd) for wrd in test_data]"
   ]
  },
  {
   "cell_type": "code",
   "execution_count": 101,
   "metadata": {},
   "outputs": [
    {
     "data": {
      "text/plain": [
       "0"
      ]
     },
     "execution_count": 101,
     "metadata": {},
     "output_type": "execute_result"
    }
   ],
   "source": [
    "#Collecting garbage values\n",
    "gc.collect()"
   ]
  },
  {
   "cell_type": "markdown",
   "metadata": {},
   "source": [
    "# Transferring output to file:"
   ]
  },
  {
   "cell_type": "code",
   "execution_count": 102,
   "metadata": {
    "collapsed": true
   },
   "outputs": [],
   "source": [
    "#Creating a new dataframe with \"ID\", \"Data and \"Predict\" Columns:\n",
    "df_predicted = pd.DataFrame(columns=['id','data', 'predict'])\n",
    "\n",
    "#Filling the \"ID\" column with numbering of the data\n",
    "df_predicted['id'] = test_dataset.sentence_id.astype(str) + '_' + test_dataset.token_id.astype(str)\n",
    "\n",
    "#Filling the 'data' column with test_data values:\n",
    "df_predicted['data'] = test_data\n",
    "\n",
    "#Filling the 'predict' column with predicted_data values\n",
    "df_predicted['predict'] = predicted_data\n",
    "\n",
    "#Storing the dataframe in a csv file:\n",
    "df_predicted.to_csv('pred_lstm.csv')"
   ]
  },
  {
   "cell_type": "code",
   "execution_count": 105,
   "metadata": {},
   "outputs": [
    {
     "data": {
      "text/html": [
       "<div>\n",
       "<style scoped>\n",
       "    .dataframe tbody tr th:only-of-type {\n",
       "        vertical-align: middle;\n",
       "    }\n",
       "\n",
       "    .dataframe tbody tr th {\n",
       "        vertical-align: top;\n",
       "    }\n",
       "\n",
       "    .dataframe thead th {\n",
       "        text-align: right;\n",
       "    }\n",
       "</style>\n",
       "<table border=\"1\" class=\"dataframe\">\n",
       "  <thead>\n",
       "    <tr style=\"text-align: right;\">\n",
       "      <th></th>\n",
       "      <th>id</th>\n",
       "      <th>data</th>\n",
       "      <th>predict</th>\n",
       "    </tr>\n",
       "  </thead>\n",
       "  <tbody>\n",
       "    <tr>\n",
       "      <th>653024</th>\n",
       "      <td>42058_2</td>\n",
       "      <td>(\u0000\u0000\u0000\u0000\u0000\u0000\u0000\u0000\u0000</td>\n",
       "      <td>PUNCT</td>\n",
       "    </tr>\n",
       "    <tr>\n",
       "      <th>971849</th>\n",
       "      <td>62507_13</td>\n",
       "      <td>\"\u0000\u0000\u0000\u0000\u0000\u0000\u0000\u0000\u0000</td>\n",
       "      <td>PUNCT</td>\n",
       "    </tr>\n",
       "    <tr>\n",
       "      <th>240940</th>\n",
       "      <td>15502_15</td>\n",
       "      <td>Norfolk\u0000\u0000\u0000</td>\n",
       "      <td>PLAIN</td>\n",
       "    </tr>\n",
       "    <tr>\n",
       "      <th>717992</th>\n",
       "      <td>46198_1</td>\n",
       "      <td>All\u0000\u0000\u0000\u0000\u0000\u0000\u0000</td>\n",
       "      <td>LETTERS</td>\n",
       "    </tr>\n",
       "    <tr>\n",
       "      <th>654283</th>\n",
       "      <td>42139_1</td>\n",
       "      <td>is\u0000\u0000\u0000\u0000\u0000\u0000\u0000\u0000</td>\n",
       "      <td>PLAIN</td>\n",
       "    </tr>\n",
       "    <tr>\n",
       "      <th>1015425</th>\n",
       "      <td>65318_10</td>\n",
       "      <td>(\u0000\u0000\u0000\u0000\u0000\u0000\u0000\u0000\u0000</td>\n",
       "      <td>PUNCT</td>\n",
       "    </tr>\n",
       "    <tr>\n",
       "      <th>999140</th>\n",
       "      <td>64269_4</td>\n",
       "      <td>is\u0000\u0000\u0000\u0000\u0000\u0000\u0000\u0000</td>\n",
       "      <td>PLAIN</td>\n",
       "    </tr>\n",
       "    <tr>\n",
       "      <th>548541</th>\n",
       "      <td>35300_0</td>\n",
       "      <td>GS\u0000\u0000\u0000\u0000\u0000\u0000\u0000\u0000</td>\n",
       "      <td>LETTERS</td>\n",
       "    </tr>\n",
       "    <tr>\n",
       "      <th>38601</th>\n",
       "      <td>2488_15</td>\n",
       "      <td>Branch\u0000\u0000\u0000\u0000</td>\n",
       "      <td>PLAIN</td>\n",
       "    </tr>\n",
       "    <tr>\n",
       "      <th>985892</th>\n",
       "      <td>63410_7</td>\n",
       "      <td>Jewish\u0000\u0000\u0000\u0000</td>\n",
       "      <td>PLAIN</td>\n",
       "    </tr>\n",
       "    <tr>\n",
       "      <th>905950</th>\n",
       "      <td>58242_5</td>\n",
       "      <td>serving\u0000\u0000\u0000</td>\n",
       "      <td>PLAIN</td>\n",
       "    </tr>\n",
       "    <tr>\n",
       "      <th>864414</th>\n",
       "      <td>55588_4</td>\n",
       "      <td>a\u0000\u0000\u0000\u0000\u0000\u0000\u0000\u0000\u0000</td>\n",
       "      <td>PLAIN</td>\n",
       "    </tr>\n",
       "    <tr>\n",
       "      <th>828546</th>\n",
       "      <td>53300_11</td>\n",
       "      <td>the\u0000\u0000\u0000\u0000\u0000\u0000\u0000</td>\n",
       "      <td>PLAIN</td>\n",
       "    </tr>\n",
       "    <tr>\n",
       "      <th>649365</th>\n",
       "      <td>41815_1</td>\n",
       "      <td>Driver\u0000\u0000\u0000\u0000</td>\n",
       "      <td>PLAIN</td>\n",
       "    </tr>\n",
       "    <tr>\n",
       "      <th>352090</th>\n",
       "      <td>22606_2</td>\n",
       "      <td>be\u0000\u0000\u0000\u0000\u0000\u0000\u0000\u0000</td>\n",
       "      <td>LETTERS</td>\n",
       "    </tr>\n",
       "    <tr>\n",
       "      <th>64269</th>\n",
       "      <td>4122_6</td>\n",
       "      <td>start\u0000\u0000\u0000\u0000\u0000</td>\n",
       "      <td>PLAIN</td>\n",
       "    </tr>\n",
       "    <tr>\n",
       "      <th>670847</th>\n",
       "      <td>43178_10</td>\n",
       "      <td>building\u0000\u0000</td>\n",
       "      <td>PLAIN</td>\n",
       "    </tr>\n",
       "    <tr>\n",
       "      <th>179213</th>\n",
       "      <td>11520_7</td>\n",
       "      <td>,\u0000\u0000\u0000\u0000\u0000\u0000\u0000\u0000\u0000</td>\n",
       "      <td>PUNCT</td>\n",
       "    </tr>\n",
       "    <tr>\n",
       "      <th>220926</th>\n",
       "      <td>14201_10</td>\n",
       "      <td>34000\u0000\u0000\u0000\u0000\u0000</td>\n",
       "      <td>DATE</td>\n",
       "    </tr>\n",
       "    <tr>\n",
       "      <th>464509</th>\n",
       "      <td>29863_2</td>\n",
       "      <td>is\u0000\u0000\u0000\u0000\u0000\u0000\u0000\u0000</td>\n",
       "      <td>PLAIN</td>\n",
       "    </tr>\n",
       "    <tr>\n",
       "      <th>507358</th>\n",
       "      <td>32653_14</td>\n",
       "      <td>an\u0000\u0000\u0000\u0000\u0000\u0000\u0000\u0000</td>\n",
       "      <td>PLAIN</td>\n",
       "    </tr>\n",
       "    <tr>\n",
       "      <th>229951</th>\n",
       "      <td>14792_10</td>\n",
       "      <td>individual</td>\n",
       "      <td>PLAIN</td>\n",
       "    </tr>\n",
       "    <tr>\n",
       "      <th>938809</th>\n",
       "      <td>60365_11</td>\n",
       "      <td>from\u0000\u0000\u0000\u0000\u0000\u0000</td>\n",
       "      <td>PLAIN</td>\n",
       "    </tr>\n",
       "    <tr>\n",
       "      <th>849920</th>\n",
       "      <td>54676_7</td>\n",
       "      <td>sea\u0000\u0000\u0000\u0000\u0000\u0000\u0000</td>\n",
       "      <td>PLAIN</td>\n",
       "    </tr>\n",
       "    <tr>\n",
       "      <th>703554</th>\n",
       "      <td>45262_7</td>\n",
       "      <td>Malta\u0000\u0000\u0000\u0000\u0000</td>\n",
       "      <td>PLAIN</td>\n",
       "    </tr>\n",
       "    <tr>\n",
       "      <th>949469</th>\n",
       "      <td>61076_4</td>\n",
       "      <td>subcontrac</td>\n",
       "      <td>PLAIN</td>\n",
       "    </tr>\n",
       "    <tr>\n",
       "      <th>111662</th>\n",
       "      <td>7175_1</td>\n",
       "      <td>News\u0000\u0000\u0000\u0000\u0000\u0000</td>\n",
       "      <td>PLAIN</td>\n",
       "    </tr>\n",
       "    <tr>\n",
       "      <th>795210</th>\n",
       "      <td>51155_24</td>\n",
       "      <td>Peter\u0000\u0000\u0000\u0000\u0000</td>\n",
       "      <td>PLAIN</td>\n",
       "    </tr>\n",
       "    <tr>\n",
       "      <th>1047210</th>\n",
       "      <td>67353_2</td>\n",
       "      <td>musique\u0000\u0000\u0000</td>\n",
       "      <td>PLAIN</td>\n",
       "    </tr>\n",
       "    <tr>\n",
       "      <th>830705</th>\n",
       "      <td>53441_4</td>\n",
       "      <td>.\u0000\u0000\u0000\u0000\u0000\u0000\u0000\u0000\u0000</td>\n",
       "      <td>PUNCT</td>\n",
       "    </tr>\n",
       "    <tr>\n",
       "      <th>640008</th>\n",
       "      <td>41209_1</td>\n",
       "      <td>Lonsdale\u0000\u0000</td>\n",
       "      <td>PLAIN</td>\n",
       "    </tr>\n",
       "    <tr>\n",
       "      <th>453579</th>\n",
       "      <td>29149_9</td>\n",
       "      <td>.\u0000\u0000\u0000\u0000\u0000\u0000\u0000\u0000\u0000</td>\n",
       "      <td>PUNCT</td>\n",
       "    </tr>\n",
       "    <tr>\n",
       "      <th>985745</th>\n",
       "      <td>63400_7</td>\n",
       "      <td>)\u0000\u0000\u0000\u0000\u0000\u0000\u0000\u0000\u0000</td>\n",
       "      <td>PUNCT</td>\n",
       "    </tr>\n",
       "    <tr>\n",
       "      <th>658571</th>\n",
       "      <td>42411_10</td>\n",
       "      <td>against\u0000\u0000\u0000</td>\n",
       "      <td>PLAIN</td>\n",
       "    </tr>\n",
       "    <tr>\n",
       "      <th>385230</th>\n",
       "      <td>24729_15</td>\n",
       "      <td>was\u0000\u0000\u0000\u0000\u0000\u0000\u0000</td>\n",
       "      <td>PLAIN</td>\n",
       "    </tr>\n",
       "    <tr>\n",
       "      <th>107403</th>\n",
       "      <td>6905_10</td>\n",
       "      <td>soldiers\u0000\u0000</td>\n",
       "      <td>PLAIN</td>\n",
       "    </tr>\n",
       "    <tr>\n",
       "      <th>388390</th>\n",
       "      <td>24943_20</td>\n",
       "      <td>and\u0000\u0000\u0000\u0000\u0000\u0000\u0000</td>\n",
       "      <td>PLAIN</td>\n",
       "    </tr>\n",
       "    <tr>\n",
       "      <th>278863</th>\n",
       "      <td>17915_7</td>\n",
       "      <td>,\u0000\u0000\u0000\u0000\u0000\u0000\u0000\u0000\u0000</td>\n",
       "      <td>PUNCT</td>\n",
       "    </tr>\n",
       "    <tr>\n",
       "      <th>746808</th>\n",
       "      <td>48052_11</td>\n",
       "      <td>east\u0000\u0000\u0000\u0000\u0000\u0000</td>\n",
       "      <td>PLAIN</td>\n",
       "    </tr>\n",
       "    <tr>\n",
       "      <th>713323</th>\n",
       "      <td>45883_4</td>\n",
       "      <td>as\u0000\u0000\u0000\u0000\u0000\u0000\u0000\u0000</td>\n",
       "      <td>PLAIN</td>\n",
       "    </tr>\n",
       "    <tr>\n",
       "      <th>410844</th>\n",
       "      <td>26397_14</td>\n",
       "      <td>)\u0000\u0000\u0000\u0000\u0000\u0000\u0000\u0000\u0000</td>\n",
       "      <td>PUNCT</td>\n",
       "    </tr>\n",
       "    <tr>\n",
       "      <th>661497</th>\n",
       "      <td>42595_17</td>\n",
       "      <td>.\u0000\u0000\u0000\u0000\u0000\u0000\u0000\u0000\u0000</td>\n",
       "      <td>PUNCT</td>\n",
       "    </tr>\n",
       "    <tr>\n",
       "      <th>784252</th>\n",
       "      <td>50457_4</td>\n",
       "      <td>380\u0000\u0000\u0000\u0000\u0000\u0000\u0000</td>\n",
       "      <td>CARDINAL</td>\n",
       "    </tr>\n",
       "    <tr>\n",
       "      <th>898890</th>\n",
       "      <td>57790_17</td>\n",
       "      <td>.\u0000\u0000\u0000\u0000\u0000\u0000\u0000\u0000\u0000</td>\n",
       "      <td>PUNCT</td>\n",
       "    </tr>\n",
       "    <tr>\n",
       "      <th>319461</th>\n",
       "      <td>20529_5</td>\n",
       "      <td>Green\u0000\u0000\u0000\u0000\u0000</td>\n",
       "      <td>PLAIN</td>\n",
       "    </tr>\n",
       "    <tr>\n",
       "      <th>54990</th>\n",
       "      <td>3521_19</td>\n",
       "      <td>1750s\u0000\u0000\u0000\u0000\u0000</td>\n",
       "      <td>DATE</td>\n",
       "    </tr>\n",
       "    <tr>\n",
       "      <th>863866</th>\n",
       "      <td>55554_7</td>\n",
       "      <td>French\u0000\u0000\u0000\u0000</td>\n",
       "      <td>PLAIN</td>\n",
       "    </tr>\n",
       "    <tr>\n",
       "      <th>635016</th>\n",
       "      <td>40882_13</td>\n",
       "      <td>an\u0000\u0000\u0000\u0000\u0000\u0000\u0000\u0000</td>\n",
       "      <td>PLAIN</td>\n",
       "    </tr>\n",
       "    <tr>\n",
       "      <th>137727</th>\n",
       "      <td>8864_0</td>\n",
       "      <td>Cancer\u0000\u0000\u0000\u0000</td>\n",
       "      <td>PLAIN</td>\n",
       "    </tr>\n",
       "    <tr>\n",
       "      <th>73438</th>\n",
       "      <td>4718_3</td>\n",
       "      <td>list\u0000\u0000\u0000\u0000\u0000\u0000</td>\n",
       "      <td>PLAIN</td>\n",
       "    </tr>\n",
       "  </tbody>\n",
       "</table>\n",
       "</div>"
      ],
      "text/plain": [
       "               id        data   predict\n",
       "653024    42058_2  (\u0000\u0000\u0000\u0000\u0000\u0000\u0000\u0000\u0000     PUNCT\n",
       "971849   62507_13  \"\u0000\u0000\u0000\u0000\u0000\u0000\u0000\u0000\u0000     PUNCT\n",
       "240940   15502_15  Norfolk\u0000\u0000\u0000     PLAIN\n",
       "717992    46198_1  All\u0000\u0000\u0000\u0000\u0000\u0000\u0000   LETTERS\n",
       "654283    42139_1  is\u0000\u0000\u0000\u0000\u0000\u0000\u0000\u0000     PLAIN\n",
       "1015425  65318_10  (\u0000\u0000\u0000\u0000\u0000\u0000\u0000\u0000\u0000     PUNCT\n",
       "999140    64269_4  is\u0000\u0000\u0000\u0000\u0000\u0000\u0000\u0000     PLAIN\n",
       "548541    35300_0  GS\u0000\u0000\u0000\u0000\u0000\u0000\u0000\u0000   LETTERS\n",
       "38601     2488_15  Branch\u0000\u0000\u0000\u0000     PLAIN\n",
       "985892    63410_7  Jewish\u0000\u0000\u0000\u0000     PLAIN\n",
       "905950    58242_5  serving\u0000\u0000\u0000     PLAIN\n",
       "864414    55588_4  a\u0000\u0000\u0000\u0000\u0000\u0000\u0000\u0000\u0000     PLAIN\n",
       "828546   53300_11  the\u0000\u0000\u0000\u0000\u0000\u0000\u0000     PLAIN\n",
       "649365    41815_1  Driver\u0000\u0000\u0000\u0000     PLAIN\n",
       "352090    22606_2  be\u0000\u0000\u0000\u0000\u0000\u0000\u0000\u0000   LETTERS\n",
       "64269      4122_6  start\u0000\u0000\u0000\u0000\u0000     PLAIN\n",
       "670847   43178_10  building\u0000\u0000     PLAIN\n",
       "179213    11520_7  ,\u0000\u0000\u0000\u0000\u0000\u0000\u0000\u0000\u0000     PUNCT\n",
       "220926   14201_10  34000\u0000\u0000\u0000\u0000\u0000      DATE\n",
       "464509    29863_2  is\u0000\u0000\u0000\u0000\u0000\u0000\u0000\u0000     PLAIN\n",
       "507358   32653_14  an\u0000\u0000\u0000\u0000\u0000\u0000\u0000\u0000     PLAIN\n",
       "229951   14792_10  individual     PLAIN\n",
       "938809   60365_11  from\u0000\u0000\u0000\u0000\u0000\u0000     PLAIN\n",
       "849920    54676_7  sea\u0000\u0000\u0000\u0000\u0000\u0000\u0000     PLAIN\n",
       "703554    45262_7  Malta\u0000\u0000\u0000\u0000\u0000     PLAIN\n",
       "949469    61076_4  subcontrac     PLAIN\n",
       "111662     7175_1  News\u0000\u0000\u0000\u0000\u0000\u0000     PLAIN\n",
       "795210   51155_24  Peter\u0000\u0000\u0000\u0000\u0000     PLAIN\n",
       "1047210   67353_2  musique\u0000\u0000\u0000     PLAIN\n",
       "830705    53441_4  .\u0000\u0000\u0000\u0000\u0000\u0000\u0000\u0000\u0000     PUNCT\n",
       "640008    41209_1  Lonsdale\u0000\u0000     PLAIN\n",
       "453579    29149_9  .\u0000\u0000\u0000\u0000\u0000\u0000\u0000\u0000\u0000     PUNCT\n",
       "985745    63400_7  )\u0000\u0000\u0000\u0000\u0000\u0000\u0000\u0000\u0000     PUNCT\n",
       "658571   42411_10  against\u0000\u0000\u0000     PLAIN\n",
       "385230   24729_15  was\u0000\u0000\u0000\u0000\u0000\u0000\u0000     PLAIN\n",
       "107403    6905_10  soldiers\u0000\u0000     PLAIN\n",
       "388390   24943_20  and\u0000\u0000\u0000\u0000\u0000\u0000\u0000     PLAIN\n",
       "278863    17915_7  ,\u0000\u0000\u0000\u0000\u0000\u0000\u0000\u0000\u0000     PUNCT\n",
       "746808   48052_11  east\u0000\u0000\u0000\u0000\u0000\u0000     PLAIN\n",
       "713323    45883_4  as\u0000\u0000\u0000\u0000\u0000\u0000\u0000\u0000     PLAIN\n",
       "410844   26397_14  )\u0000\u0000\u0000\u0000\u0000\u0000\u0000\u0000\u0000     PUNCT\n",
       "661497   42595_17  .\u0000\u0000\u0000\u0000\u0000\u0000\u0000\u0000\u0000     PUNCT\n",
       "784252    50457_4  380\u0000\u0000\u0000\u0000\u0000\u0000\u0000  CARDINAL\n",
       "898890   57790_17  .\u0000\u0000\u0000\u0000\u0000\u0000\u0000\u0000\u0000     PUNCT\n",
       "319461    20529_5  Green\u0000\u0000\u0000\u0000\u0000     PLAIN\n",
       "54990     3521_19  1750s\u0000\u0000\u0000\u0000\u0000      DATE\n",
       "863866    55554_7  French\u0000\u0000\u0000\u0000     PLAIN\n",
       "635016   40882_13  an\u0000\u0000\u0000\u0000\u0000\u0000\u0000\u0000     PLAIN\n",
       "137727     8864_0  Cancer\u0000\u0000\u0000\u0000     PLAIN\n",
       "73438      4718_3  list\u0000\u0000\u0000\u0000\u0000\u0000     PLAIN"
      ]
     },
     "execution_count": 105,
     "metadata": {},
     "output_type": "execute_result"
    }
   ],
   "source": [
    "#Showing a sample of the predicted outputs:\n",
    "df_predicted.sample(50)"
   ]
  },
  {
   "cell_type": "markdown",
   "metadata": {
    "collapsed": true
   },
   "source": [
    "From the above prediction model, The classification performed with an accuracy of 95% after running for 10 Epochs. But we used only the first 100000 data points to achieve this result. This is owed to the fact that I am running this on an old computer with a Nvidia GTX560 graphics card and couldnt afford to process large amounts of data. \n",
    "\n",
    "Some of the methods I have tried to improve the accuracy are as follows:\n",
    "1. Adding more hidden layers to the neural network.\n",
    "2. Playing around with the optimizers used.\n",
    "3. Trying different batch sizes and epochs.\n",
    "4. Altering the dense and the dropout layers.\n",
    "5. Altering the dataset to be more balanced.\n",
    "\n",
    "What I plan to do with access to the DGX1:\n",
    "\n",
    "While the implementation of this algorithm has not given ideal results, With the help of better, more powerful processing power in the likes of DGX1, I will be able to work on the entire set of data and can optimize the hyper parameters for achieving the desired results without the constraint of large processing time.\n",
    "\n",
    "1. Firstly, i would use all the data from the given dataset to train my model instead of using just the first 100,000 datapoints.\n",
    "2. I would increse the number of Epochs and test the performance of the model.\n",
    "3. I would experiment with adding more number of hidden layers to see if there is any increse in performance.\n",
    "4. I would experiment with decresing the batch size number and validating the performance.\n",
    "5. I would ofcourse tweak the hyper-parameters and check to see if there is any changes to the result after incresing the size of the dataset using different optimizers and types of hidden layers.\n",
    "\n",
    "The most significant advantage of using a super computer like the DGX1 is the amount of time we can save in ruuning the time consuming models. With access to it and a time period of 30 days, I am confident, I can increse the prediction accuracy by a good margin.\n",
    "\n",
    "Text normalization is a very exciting area of Deep Learing and still has a long way to go but is quickly catching up. With the rapid increse in technology, The field of Natural Language Processing will unlock unlimited potential in the artificial intelligence sector. This is a a small part of my contribution towards that goal. \n",
    "\n",
    "Thank you.\n",
    "\n"
   ]
  },
  {
   "cell_type": "code",
   "execution_count": null,
   "metadata": {
    "collapsed": true
   },
   "outputs": [],
   "source": []
  }
 ],
 "metadata": {
  "kernelspec": {
   "display_name": "Python 3",
   "language": "python",
   "name": "python3"
  },
  "language_info": {
   "codemirror_mode": {
    "name": "ipython",
    "version": 3
   },
   "file_extension": ".py",
   "mimetype": "text/x-python",
   "name": "python",
   "nbconvert_exporter": "python",
   "pygments_lexer": "ipython3",
   "version": "3.6.3"
  }
 },
 "nbformat": 4,
 "nbformat_minor": 2
}
